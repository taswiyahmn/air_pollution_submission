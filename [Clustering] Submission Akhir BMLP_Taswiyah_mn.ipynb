{
 "cells": [
  {
   "cell_type": "markdown",
   "id": "73af69cb",
   "metadata": {},
   "source": [
    "# Perkenalan Datase\n",
    "\n",
    "**1. Sumber dataset**\n",
    "Dataset saya peroleh melalui kaggle pada link ini (https://www.kaggle.com/datasets/hasibalmuzdadid/global-air-pollution-dataset)\n",
    "\n",
    "**2. Ketentuan dataset**\n",
    "Jumlah kolom: 12 kolom \n",
    "* Country (Kategorikal)\n",
    "Name of the country\n",
    "* City (Kategorikal)\n",
    "Name of the city\n",
    "* AQI Value (Numerikal)\n",
    "Overall AQI value of the city\n",
    "* AQI Category (Kategorikal)\n",
    "Overall AQI category of the city\n",
    "* CO AQI Value (Numerikal)\n",
    "AQI value of Carbon Monoxide of the city\n",
    "* CO AQI Category (Kategorikal)\n",
    "AQI category of Carbon Monoxide of the city\n",
    "* Ozone AQI Value (Numerikal)\n",
    "AQI value of Ozone of the city\n",
    "* Ozone AQI Category (Kategorikal)\n",
    "AQI category of Ozone of the city\n",
    "* NO2 AQI Value (Numerikal)\n",
    "AQI value of Nitrogen Dioxide of the city\n",
    "* NO2 AQI Category (Kategorikal)\n",
    "AQI category of Nitrogen Dioxide of the city\n",
    "\n",
    "**3. Jumlah Baris: 23.000 data**\n",
    "\n",
    "**4. Tujuan**\n",
    "Menghasilkan 3 kategori tingkatan polusi berdasarkan kolom negara dari hasil clustering"
   ]
  },
  {
   "cell_type": "markdown",
   "id": "968b02b5",
   "metadata": {},
   "source": [
    "# Import Library"
   ]
  },
  {
   "cell_type": "code",
   "execution_count": 1,
   "id": "b3a4d7c2",
   "metadata": {},
   "outputs": [],
   "source": [
    "import pandas as pd\n",
    "import numpy as np\n",
    "import matplotlib.pyplot as plt\n",
    "import seaborn as sns"
   ]
  },
  {
   "cell_type": "code",
   "execution_count": 2,
   "id": "b860fdb0",
   "metadata": {},
   "outputs": [],
   "source": [
    "import warnings\n",
    "warnings.filterwarnings(\"ignore\")"
   ]
  },
  {
   "cell_type": "markdown",
   "id": "d1842e02",
   "metadata": {},
   "source": [
    "# Load Dataset"
   ]
  },
  {
   "cell_type": "code",
   "execution_count": 3,
   "id": "3501ea52",
   "metadata": {},
   "outputs": [],
   "source": [
    "df = pd.read_csv('global air pollution dataset.csv')"
   ]
  },
  {
   "cell_type": "markdown",
   "id": "7a669c1f",
   "metadata": {},
   "source": [
    "# EDA"
   ]
  },
  {
   "cell_type": "code",
   "execution_count": 4,
   "id": "219bdde1",
   "metadata": {},
   "outputs": [
    {
     "name": "stdout",
     "output_type": "stream",
     "text": [
      "<class 'pandas.core.frame.DataFrame'>\n",
      "RangeIndex: 23463 entries, 0 to 23462\n",
      "Data columns (total 12 columns):\n",
      " #   Column              Non-Null Count  Dtype \n",
      "---  ------              --------------  ----- \n",
      " 0   Country             23036 non-null  object\n",
      " 1   City                23462 non-null  object\n",
      " 2   AQI Value           23463 non-null  int64 \n",
      " 3   AQI Category        23463 non-null  object\n",
      " 4   CO AQI Value        23463 non-null  int64 \n",
      " 5   CO AQI Category     23463 non-null  object\n",
      " 6   Ozone AQI Value     23463 non-null  int64 \n",
      " 7   Ozone AQI Category  23463 non-null  object\n",
      " 8   NO2 AQI Value       23463 non-null  int64 \n",
      " 9   NO2 AQI Category    23463 non-null  object\n",
      " 10  PM2.5 AQI Value     23463 non-null  int64 \n",
      " 11  PM2.5 AQI Category  23463 non-null  object\n",
      "dtypes: int64(5), object(7)\n",
      "memory usage: 2.1+ MB\n"
     ]
    }
   ],
   "source": [
    "df.info()"
   ]
  },
  {
   "cell_type": "code",
   "execution_count": 5,
   "id": "47f7a131",
   "metadata": {},
   "outputs": [
    {
     "data": {
      "text/html": [
       "<div>\n",
       "<style scoped>\n",
       "    .dataframe tbody tr th:only-of-type {\n",
       "        vertical-align: middle;\n",
       "    }\n",
       "\n",
       "    .dataframe tbody tr th {\n",
       "        vertical-align: top;\n",
       "    }\n",
       "\n",
       "    .dataframe thead th {\n",
       "        text-align: right;\n",
       "    }\n",
       "</style>\n",
       "<table border=\"1\" class=\"dataframe\">\n",
       "  <thead>\n",
       "    <tr style=\"text-align: right;\">\n",
       "      <th></th>\n",
       "      <th>Country</th>\n",
       "      <th>City</th>\n",
       "      <th>AQI Value</th>\n",
       "      <th>AQI Category</th>\n",
       "      <th>CO AQI Value</th>\n",
       "      <th>CO AQI Category</th>\n",
       "      <th>Ozone AQI Value</th>\n",
       "      <th>Ozone AQI Category</th>\n",
       "      <th>NO2 AQI Value</th>\n",
       "      <th>NO2 AQI Category</th>\n",
       "      <th>PM2.5 AQI Value</th>\n",
       "      <th>PM2.5 AQI Category</th>\n",
       "    </tr>\n",
       "  </thead>\n",
       "  <tbody>\n",
       "    <tr>\n",
       "      <th>0</th>\n",
       "      <td>Russian Federation</td>\n",
       "      <td>Praskoveya</td>\n",
       "      <td>51</td>\n",
       "      <td>Moderate</td>\n",
       "      <td>1</td>\n",
       "      <td>Good</td>\n",
       "      <td>36</td>\n",
       "      <td>Good</td>\n",
       "      <td>0</td>\n",
       "      <td>Good</td>\n",
       "      <td>51</td>\n",
       "      <td>Moderate</td>\n",
       "    </tr>\n",
       "    <tr>\n",
       "      <th>1</th>\n",
       "      <td>Brazil</td>\n",
       "      <td>Presidente Dutra</td>\n",
       "      <td>41</td>\n",
       "      <td>Good</td>\n",
       "      <td>1</td>\n",
       "      <td>Good</td>\n",
       "      <td>5</td>\n",
       "      <td>Good</td>\n",
       "      <td>1</td>\n",
       "      <td>Good</td>\n",
       "      <td>41</td>\n",
       "      <td>Good</td>\n",
       "    </tr>\n",
       "    <tr>\n",
       "      <th>2</th>\n",
       "      <td>Italy</td>\n",
       "      <td>Priolo Gargallo</td>\n",
       "      <td>66</td>\n",
       "      <td>Moderate</td>\n",
       "      <td>1</td>\n",
       "      <td>Good</td>\n",
       "      <td>39</td>\n",
       "      <td>Good</td>\n",
       "      <td>2</td>\n",
       "      <td>Good</td>\n",
       "      <td>66</td>\n",
       "      <td>Moderate</td>\n",
       "    </tr>\n",
       "    <tr>\n",
       "      <th>3</th>\n",
       "      <td>Poland</td>\n",
       "      <td>Przasnysz</td>\n",
       "      <td>34</td>\n",
       "      <td>Good</td>\n",
       "      <td>1</td>\n",
       "      <td>Good</td>\n",
       "      <td>34</td>\n",
       "      <td>Good</td>\n",
       "      <td>0</td>\n",
       "      <td>Good</td>\n",
       "      <td>20</td>\n",
       "      <td>Good</td>\n",
       "    </tr>\n",
       "    <tr>\n",
       "      <th>4</th>\n",
       "      <td>France</td>\n",
       "      <td>Punaauia</td>\n",
       "      <td>22</td>\n",
       "      <td>Good</td>\n",
       "      <td>0</td>\n",
       "      <td>Good</td>\n",
       "      <td>22</td>\n",
       "      <td>Good</td>\n",
       "      <td>0</td>\n",
       "      <td>Good</td>\n",
       "      <td>6</td>\n",
       "      <td>Good</td>\n",
       "    </tr>\n",
       "  </tbody>\n",
       "</table>\n",
       "</div>"
      ],
      "text/plain": [
       "              Country              City  AQI Value AQI Category  CO AQI Value  \\\n",
       "0  Russian Federation        Praskoveya         51     Moderate             1   \n",
       "1              Brazil  Presidente Dutra         41         Good             1   \n",
       "2               Italy   Priolo Gargallo         66     Moderate             1   \n",
       "3              Poland         Przasnysz         34         Good             1   \n",
       "4              France          Punaauia         22         Good             0   \n",
       "\n",
       "  CO AQI Category  Ozone AQI Value Ozone AQI Category  NO2 AQI Value  \\\n",
       "0            Good               36               Good              0   \n",
       "1            Good                5               Good              1   \n",
       "2            Good               39               Good              2   \n",
       "3            Good               34               Good              0   \n",
       "4            Good               22               Good              0   \n",
       "\n",
       "  NO2 AQI Category  PM2.5 AQI Value PM2.5 AQI Category  \n",
       "0             Good               51           Moderate  \n",
       "1             Good               41               Good  \n",
       "2             Good               66           Moderate  \n",
       "3             Good               20               Good  \n",
       "4             Good                6               Good  "
      ]
     },
     "execution_count": 5,
     "metadata": {},
     "output_type": "execute_result"
    }
   ],
   "source": [
    "df.head()"
   ]
  },
  {
   "cell_type": "code",
   "execution_count": 6,
   "id": "13a42ff3",
   "metadata": {},
   "outputs": [
    {
     "data": {
      "text/html": [
       "<div>\n",
       "<style scoped>\n",
       "    .dataframe tbody tr th:only-of-type {\n",
       "        vertical-align: middle;\n",
       "    }\n",
       "\n",
       "    .dataframe tbody tr th {\n",
       "        vertical-align: top;\n",
       "    }\n",
       "\n",
       "    .dataframe thead th {\n",
       "        text-align: right;\n",
       "    }\n",
       "</style>\n",
       "<table border=\"1\" class=\"dataframe\">\n",
       "  <thead>\n",
       "    <tr style=\"text-align: right;\">\n",
       "      <th></th>\n",
       "      <th>AQI Value</th>\n",
       "      <th>CO AQI Value</th>\n",
       "      <th>Ozone AQI Value</th>\n",
       "      <th>NO2 AQI Value</th>\n",
       "      <th>PM2.5 AQI Value</th>\n",
       "    </tr>\n",
       "  </thead>\n",
       "  <tbody>\n",
       "    <tr>\n",
       "      <th>count</th>\n",
       "      <td>23463.000000</td>\n",
       "      <td>23463.000000</td>\n",
       "      <td>23463.000000</td>\n",
       "      <td>23463.000000</td>\n",
       "      <td>23463.000000</td>\n",
       "    </tr>\n",
       "    <tr>\n",
       "      <th>mean</th>\n",
       "      <td>72.010868</td>\n",
       "      <td>1.368367</td>\n",
       "      <td>35.193709</td>\n",
       "      <td>3.063334</td>\n",
       "      <td>68.519755</td>\n",
       "    </tr>\n",
       "    <tr>\n",
       "      <th>std</th>\n",
       "      <td>56.055220</td>\n",
       "      <td>1.832064</td>\n",
       "      <td>28.098723</td>\n",
       "      <td>5.254108</td>\n",
       "      <td>54.796443</td>\n",
       "    </tr>\n",
       "    <tr>\n",
       "      <th>min</th>\n",
       "      <td>6.000000</td>\n",
       "      <td>0.000000</td>\n",
       "      <td>0.000000</td>\n",
       "      <td>0.000000</td>\n",
       "      <td>0.000000</td>\n",
       "    </tr>\n",
       "    <tr>\n",
       "      <th>25%</th>\n",
       "      <td>39.000000</td>\n",
       "      <td>1.000000</td>\n",
       "      <td>21.000000</td>\n",
       "      <td>0.000000</td>\n",
       "      <td>35.000000</td>\n",
       "    </tr>\n",
       "    <tr>\n",
       "      <th>50%</th>\n",
       "      <td>55.000000</td>\n",
       "      <td>1.000000</td>\n",
       "      <td>31.000000</td>\n",
       "      <td>1.000000</td>\n",
       "      <td>54.000000</td>\n",
       "    </tr>\n",
       "    <tr>\n",
       "      <th>75%</th>\n",
       "      <td>79.000000</td>\n",
       "      <td>1.000000</td>\n",
       "      <td>40.000000</td>\n",
       "      <td>4.000000</td>\n",
       "      <td>79.000000</td>\n",
       "    </tr>\n",
       "    <tr>\n",
       "      <th>max</th>\n",
       "      <td>500.000000</td>\n",
       "      <td>133.000000</td>\n",
       "      <td>235.000000</td>\n",
       "      <td>91.000000</td>\n",
       "      <td>500.000000</td>\n",
       "    </tr>\n",
       "  </tbody>\n",
       "</table>\n",
       "</div>"
      ],
      "text/plain": [
       "          AQI Value  CO AQI Value  Ozone AQI Value  NO2 AQI Value  \\\n",
       "count  23463.000000  23463.000000     23463.000000   23463.000000   \n",
       "mean      72.010868      1.368367        35.193709       3.063334   \n",
       "std       56.055220      1.832064        28.098723       5.254108   \n",
       "min        6.000000      0.000000         0.000000       0.000000   \n",
       "25%       39.000000      1.000000        21.000000       0.000000   \n",
       "50%       55.000000      1.000000        31.000000       1.000000   \n",
       "75%       79.000000      1.000000        40.000000       4.000000   \n",
       "max      500.000000    133.000000       235.000000      91.000000   \n",
       "\n",
       "       PM2.5 AQI Value  \n",
       "count     23463.000000  \n",
       "mean         68.519755  \n",
       "std          54.796443  \n",
       "min           0.000000  \n",
       "25%          35.000000  \n",
       "50%          54.000000  \n",
       "75%          79.000000  \n",
       "max         500.000000  "
      ]
     },
     "execution_count": 6,
     "metadata": {},
     "output_type": "execute_result"
    }
   ],
   "source": [
    "df.describe()"
   ]
  },
  {
   "cell_type": "code",
   "execution_count": 7,
   "id": "cf56a282",
   "metadata": {},
   "outputs": [
    {
     "data": {
      "text/plain": [
       "Country               427\n",
       "City                    1\n",
       "AQI Value               0\n",
       "AQI Category            0\n",
       "CO AQI Value            0\n",
       "CO AQI Category         0\n",
       "Ozone AQI Value         0\n",
       "Ozone AQI Category      0\n",
       "NO2 AQI Value           0\n",
       "NO2 AQI Category        0\n",
       "PM2.5 AQI Value         0\n",
       "PM2.5 AQI Category      0\n",
       "dtype: int64"
      ]
     },
     "execution_count": 7,
     "metadata": {},
     "output_type": "execute_result"
    }
   ],
   "source": [
    "df.isnull().sum()"
   ]
  },
  {
   "cell_type": "markdown",
   "id": "ec58c1c1",
   "metadata": {},
   "source": [
    "terdapat 2 kolom yang memiliki nilai null di dalamnya yaitu kolom 'Country' dan 'City'"
   ]
  },
  {
   "cell_type": "code",
   "execution_count": 8,
   "id": "e8d0fa94",
   "metadata": {},
   "outputs": [
    {
     "data": {
      "text/plain": [
       "array(['Good', 'Moderate', 'Unhealthy for Sensitive Groups', 'Unhealthy',\n",
       "       'Very Unhealthy'], dtype=object)"
      ]
     },
     "execution_count": 8,
     "metadata": {},
     "output_type": "execute_result"
    }
   ],
   "source": [
    "df['Ozone AQI Category'].unique()"
   ]
  },
  {
   "cell_type": "code",
   "execution_count": 9,
   "id": "ccfe3107",
   "metadata": {},
   "outputs": [
    {
     "data": {
      "text/plain": [
       "array(['Good', 'Unhealthy for Sensitive Groups', 'Moderate'], dtype=object)"
      ]
     },
     "execution_count": 9,
     "metadata": {},
     "output_type": "execute_result"
    }
   ],
   "source": [
    "df['CO AQI Category'].unique()"
   ]
  },
  {
   "cell_type": "code",
   "execution_count": 10,
   "id": "f82974a7",
   "metadata": {},
   "outputs": [
    {
     "data": {
      "text/plain": [
       "array(['Good', 'Moderate'], dtype=object)"
      ]
     },
     "execution_count": 10,
     "metadata": {},
     "output_type": "execute_result"
    }
   ],
   "source": [
    "df['NO2 AQI Category'].unique()"
   ]
  },
  {
   "cell_type": "code",
   "execution_count": 11,
   "id": "563b3092",
   "metadata": {},
   "outputs": [
    {
     "data": {
      "text/plain": [
       "array(['Moderate', 'Good', 'Unhealthy for Sensitive Groups', 'Unhealthy',\n",
       "       'Very Unhealthy', 'Hazardous'], dtype=object)"
      ]
     },
     "execution_count": 11,
     "metadata": {},
     "output_type": "execute_result"
    }
   ],
   "source": [
    "df['PM2.5 AQI Category'].unique()"
   ]
  },
  {
   "cell_type": "markdown",
   "id": "b5ac6fa3",
   "metadata": {},
   "source": [
    "kelima cell code diatas bertujuan untuk mengetahui nilai unique pada category teridiri dari apa saja, untuk mengetahui kadar polusi yang akan dilihat dari kolom value nantinya"
   ]
  },
  {
   "cell_type": "code",
   "execution_count": 12,
   "id": "55b8b078",
   "metadata": {},
   "outputs": [
    {
     "data": {
      "image/png": "[encoded data removed]",
      "text/plain": [
       "<Figure size 1200x800 with 4 Axes>"
      ]
     },
     "metadata": {},
     "output_type": "display_data"
    }
   ],
   "source": [
    "# Membuat figure dan axis untuk 4 subplot\n",
    "fig, axes = plt.subplots(2, 2, figsize=(12, 8))  # 2x2 grid\n",
    "\n",
    "# Plot masing-masing AQI dalam subplot berbeda\n",
    "sns.boxplot(x=df['Ozone AQI Value'], ax=axes[0, 0]).set(title=\"Ozone AQI Value\")\n",
    "sns.boxplot(x=df['CO AQI Value'], ax=axes[0, 1]).set(title=\"CO AQI Value\")\n",
    "sns.boxplot(x=df['NO2 AQI Value'], ax=axes[1, 0]).set(title=\"NO2 AQI Value\")\n",
    "sns.boxplot(x=df['PM2.5 AQI Value'], ax=axes[1, 1]).set(title=\"PM2.5 AQI Value\")\n",
    "\n",
    "# Menyesuaikan layout agar tidak bertumpuk\n",
    "plt.tight_layout()\n",
    "\n",
    "# Menampilkan plot\n",
    "plt.show()"
   ]
  },
  {
   "cell_type": "markdown",
   "id": "14ce85db",
   "metadata": {},
   "source": [
    "pada visualisasi ini saya menggunakan box plot untuk melihat seberapa banyak data yang berada di titik outlier dan untuk melihat skweness dan kurtosis dari data masing-masing kolom"
   ]
  },
  {
   "cell_type": "code",
   "execution_count": 13,
   "id": "d2e2fcc9",
   "metadata": {},
   "outputs": [
    {
     "data": {
      "text/plain": [
       "3.101750386086197"
      ]
     },
     "execution_count": 13,
     "metadata": {},
     "output_type": "execute_result"
    }
   ],
   "source": [
    "df['Ozone AQI Value'].skew()"
   ]
  },
  {
   "cell_type": "code",
   "execution_count": 14,
   "id": "ce79c84a",
   "metadata": {},
   "outputs": [
    {
     "data": {
      "text/plain": [
       "23.084232216858382"
      ]
     },
     "execution_count": 14,
     "metadata": {},
     "output_type": "execute_result"
    }
   ],
   "source": [
    "df['CO AQI Value'].skew()"
   ]
  },
  {
   "cell_type": "code",
   "execution_count": 15,
   "id": "8878845c",
   "metadata": {},
   "outputs": [
    {
     "data": {
      "text/plain": [
       "3.793627544162518"
      ]
     },
     "execution_count": 15,
     "metadata": {},
     "output_type": "execute_result"
    }
   ],
   "source": [
    "df['NO2 AQI Value'].skew()"
   ]
  },
  {
   "cell_type": "code",
   "execution_count": 16,
   "id": "48c4e233",
   "metadata": {},
   "outputs": [
    {
     "data": {
      "text/plain": [
       "2.8232624208975357"
      ]
     },
     "execution_count": 16,
     "metadata": {},
     "output_type": "execute_result"
    }
   ],
   "source": [
    "df['PM2.5 AQI Value'].skew()"
   ]
  },
  {
   "cell_type": "markdown",
   "id": "3966aebe",
   "metadata": {},
   "source": [
    "berdasarkan empar code cell diatas, dapat dilihat skweness pada kolom value **tidak terdistribusi secara normal**, sehingga dapat disimpulan bahwa data pada kolom tersebut membutuhkan proses **scaling** untuk mengatasi pendistribusian data pada dataset ai pollution"
   ]
  },
  {
   "cell_type": "markdown",
   "id": "67e98950",
   "metadata": {},
   "source": [
    "# DATA PREPROCESSING"
   ]
  },
  {
   "cell_type": "markdown",
   "id": "c69cf979",
   "metadata": {},
   "source": [
    "## Data Scaling"
   ]
  },
  {
   "cell_type": "code",
   "execution_count": 17,
   "id": "ff84d8ae",
   "metadata": {},
   "outputs": [],
   "source": [
    "df['Ozone AQI Value'] = np.log1p(df['Ozone AQI Value'])\n",
    "df['CO AQI Value'] = np.log1p(df['CO AQI Value'])\n",
    "df['NO2 AQI Value'] = np.log1p(df['NO2 AQI Value'])\n",
    "df['PM2.5 AQI Value'] = np.log1p(df['PM2.5 AQI Value'])"
   ]
  },
  {
   "cell_type": "code",
   "execution_count": 18,
   "id": "19828e8c",
   "metadata": {},
   "outputs": [],
   "source": [
    "df.dropna(subset=['Country', 'City'], inplace = True)"
   ]
  },
  {
   "cell_type": "code",
   "execution_count": 19,
   "id": "4af61d3d",
   "metadata": {},
   "outputs": [],
   "source": [
    "df['Country_Freq'] = df['Country'].map(df['Country'].value_counts())\n",
    "df['City_Freq'] = df['City'].map(df['City'].value_counts())"
   ]
  },
  {
   "cell_type": "code",
   "execution_count": 20,
   "id": "8219f9e0",
   "metadata": {},
   "outputs": [],
   "source": [
    "df.drop(['Country', 'City', 'AQI Value', 'AQI Category', 'Ozone AQI Category', 'CO AQI Category','NO2 AQI Category', 'PM2.5 AQI Category' ], axis=1, inplace = True)"
   ]
  },
  {
   "cell_type": "markdown",
   "id": "fb32de4e",
   "metadata": {},
   "source": [
    "mengapa kolom category dihapuskan? karena pada analisis ini hanya akan membutuhkan value saja untuk menganalisis apakah polusi tersebut parah atau tidak sehinggal kolom category perlu di remove atau dihilangkan"
   ]
  },
  {
   "cell_type": "markdown",
   "id": "af317c7a",
   "metadata": {},
   "source": [
    "# Feature Selection"
   ]
  },
  {
   "cell_type": "code",
   "execution_count": 21,
   "id": "d4dbd617",
   "metadata": {},
   "outputs": [
    {
     "data": {
      "image/png": "[encoded data removed]",
      "text/plain": [
       "<Figure size 600x400 with 1 Axes>"
      ]
     },
     "metadata": {},
     "output_type": "display_data"
    }
   ],
   "source": [
    "from sklearn.decomposition import PCA\n",
    "\n",
    "np.random.seed(42)\n",
    "X = df.iloc[:, :6].values * 10\n",
    "\n",
    "# PCA tanpa menentukan jumlah komponen\n",
    "pca = PCA()\n",
    "pca.fit(X)\n",
    "\n",
    "# Variance explained oleh setiap komponen\n",
    "explained_variance = pca.explained_variance_ratio_\n",
    "\n",
    "# Plot Scree Plot\n",
    "plt.figure(figsize=(6,4))\n",
    "plt.plot(range(1, len(explained_variance) + 1), np.cumsum(explained_variance), marker='o', linestyle='--')\n",
    "plt.xlabel('Jumlah Principal Components')\n",
    "plt.ylabel('Cumulative Variance Explained')\n",
    "plt.title('Scree Plot untuk PCA')\n",
    "plt.grid()\n",
    "plt.show()"
   ]
  },
  {
   "cell_type": "markdown",
   "id": "d93fc9bd",
   "metadata": {},
   "source": [
    "Berdasarkan dari proses PCA diatas yang digunakan untuk memilih fitur optimal, bahwa dimulai dari fitur **5 hingga 6** menunjukkan hasil yang stabil yaitu berada di 10, sehingga untuk proses ini kita hanya akan mengambil **5 fitur saja** sebagai fitur yang digunakan untuk proses kmeans"
   ]
  },
  {
   "cell_type": "markdown",
   "id": "1648925f",
   "metadata": {},
   "source": [
    "## Proses Evaluasi Model menggunakan Elbow Method"
   ]
  },
  {
   "cell_type": "code",
   "execution_count": 22,
   "id": "7cec41b8",
   "metadata": {},
   "outputs": [
    {
     "data": {
      "image/png": "[encoded data removed]",
      "text/plain": [
       "<Figure size 800x500 with 1 Axes>"
      ]
     },
     "metadata": {},
     "output_type": "display_data"
    }
   ],
   "source": [
    "from sklearn.cluster import KMeans\n",
    "\n",
    "X = df.iloc[:, 0:6].values * 10  \n",
    "\n",
    "inertia = []\n",
    "K_range = range(1, 11)  # Maksimal K = jumlah baris dalam X\n",
    "\n",
    "for k in K_range:\n",
    "    kmeans = KMeans(n_clusters=k, random_state=42, n_init=10)\n",
    "    kmeans.fit(X)\n",
    "    inertia.append(kmeans.inertia_)  # Simpan inertia (distorsi)\n",
    "\n",
    "\n",
    "plt.figure(figsize=(8, 5))\n",
    "plt.plot(K_range, inertia, marker='o', linestyle='-')\n",
    "plt.xlabel(\"Number of Clusters (K)\")\n",
    "plt.ylabel(\"Inertia (WCSS)\")\n",
    "plt.title(\"Elbow Method for Optimal K\")\n",
    "plt.xticks(K_range)\n",
    "plt.grid(True)\n",
    "plt.show()\n"
   ]
  },
  {
   "cell_type": "markdown",
   "id": "e5d12bce",
   "metadata": {},
   "source": [
    "Berdasarkan hasil dari elbow method dapat dilihat bahwa titik elbow berada pada**cluster ke 3**, dan mulai stabil pada cluster ke 8-10"
   ]
  },
  {
   "cell_type": "markdown",
   "id": "630c40ae",
   "metadata": {},
   "source": [
    "## Evaluasi Model Kmeans Menggunakan Sillhouette Score"
   ]
  },
  {
   "cell_type": "code",
   "execution_count": 23,
   "id": "2ec4b609",
   "metadata": {},
   "outputs": [
    {
     "name": "stdout",
     "output_type": "stream",
     "text": [
      "Silhouette Score untuk k=2: 0.6950\n",
      "Silhouette Score untuk k=3: 0.7380\n",
      "Silhouette Score untuk k=4: 0.7541\n",
      "Silhouette Score untuk k=5: 0.7887\n",
      "Silhouette Score untuk k=6: 0.7612\n",
      "Silhouette Score untuk k=7: 0.7775\n",
      "Silhouette Score untuk k=8: 0.7945\n"
     ]
    }
   ],
   "source": [
    "from sklearn.metrics import silhouette_score\n",
    "\n",
    "# Loop untuk jumlah cluster dari 2 hingga 8\n",
    "for k in range(2, 9):  \n",
    "    kmeans = KMeans(n_clusters=k, n_init=10, random_state=42)\n",
    "    labels = kmeans.fit_predict(X)  # Gunakan X yang sudah ada\n",
    "    score = silhouette_score(X, labels)\n",
    "    print(f\"Silhouette Score untuk k={k}: {score:.4f}\")"
   ]
  },
  {
   "cell_type": "markdown",
   "id": "5588128b",
   "metadata": {},
   "source": [
    "Hasil silhouette score **cluster = 3 menunjukkan nilai 0,73** sementara yang paling tinggi berada di cluster = 8 yaitu 0,79. tetapi karena tujuan dari analisis ini ingin membagi menjadi 3 bagian yaitu **\"Hight Pollution\", \"Moderate Pollution\" dan \"Low pollution\"**, maka **cluster = 3 akan dipilih untuk proses visualisasi nantinya**"
   ]
  },
  {
   "cell_type": "code",
   "execution_count": 24,
   "id": "00b87ff3",
   "metadata": {},
   "outputs": [
    {
     "name": "stdout",
     "output_type": "stream",
     "text": [
      "Fitur yang dipilih: ['PM2.5 AQI Value', 'NO2 AQI Value']\n"
     ]
    }
   ],
   "source": [
    "# Misalkan kita memiliki X dengan banyak fitur\n",
    "X = df[['Ozone AQI Value', 'CO AQI Value', 'NO2 AQI Value', 'PM2.5 AQI Value']]\n",
    "\n",
    "# Lakukan PCA\n",
    "pca = PCA(n_components=2)\n",
    "pca.fit(X)\n",
    "\n",
    "# Ambil loading matrix untuk melihat kontribusi tiap fitur\n",
    "loading_matrix = abs(pca.components_)\n",
    "\n",
    "# Pilih 2 fitur dengan kontribusi terbesar pada komponen pertama\n",
    "top_2_features = X.columns[loading_matrix[0].argsort()[-2:]].tolist()\n",
    "print(\"Fitur yang dipilih:\", top_2_features)"
   ]
  },
  {
   "cell_type": "markdown",
   "id": "6339cec1",
   "metadata": {},
   "source": [
    "pada code cell diatas digunakan untuk menentukan fitur yang paling domminan berkontribusi pada model, karena untuk proses visualisasi hanya dapat menggunakan 2 variabel saja sehingga proses PCA diperlukan dan output menunjukkan bahwa **PM2.5 AQI Value', 'NO2 AQI** Value adalah yang paling tinggi dan akan digunakan sebagai nilai X dan Y untuk visualisasi "
   ]
  },
  {
   "cell_type": "markdown",
   "id": "47c77c9b",
   "metadata": {},
   "source": [
    "# Visualisasi Hasil Clustering KMeans"
   ]
  },
  {
   "cell_type": "code",
   "execution_count": 25,
   "id": "3801270a",
   "metadata": {},
   "outputs": [
    {
     "data": {
      "image/png": "[encoded data removed]",
      "text/plain": [
       "<Figure size 800x600 with 1 Axes>"
      ]
     },
     "metadata": {},
     "output_type": "display_data"
    }
   ],
   "source": [
    "# Memilih dua fitur untuk clustering dan visualisasi\n",
    "X_selected = df[['PM2.5 AQI Value', 'NO2 AQI Value']].values  # Menggunakan dua fitur tertentu\n",
    "\n",
    "# Menentukan jumlah cluster\n",
    "k = 3\n",
    "kmeans = KMeans(n_clusters=k, n_init=10, random_state=42)\n",
    "\n",
    "# Melakukan clustering\n",
    "labels = kmeans.fit_predict(X_selected)\n",
    "\n",
    "# Menambahkan 1 ke label agar dimulai dari 1, bukan 0\n",
    "labels_adjusted = labels + 1  \n",
    "\n",
    "# Plot hasil clustering dengan warna berdasarkan label cluster\n",
    "plt.figure(figsize=(8, 6))\n",
    "scatter = plt.scatter(X_selected[:, 0], X_selected[:, 1], c=labels_adjusted, cmap='viridis', alpha=0.7)\n",
    "\n",
    "# Menampilkan centroid\n",
    "plt.scatter(kmeans.cluster_centers_[:, 0], kmeans.cluster_centers_[:, 1], \n",
    "            s=200, c='red', marker='X', label='Centroids')\n",
    "\n",
    "# Menyesuaikan legend agar menampilkan label dari 1,2,3\n",
    "legend_labels = {i + 1: f\"Cluster {i + 1}\" for i in range(k)}\n",
    "handles, _ = scatter.legend_elements()\n",
    "plt.legend(handles, legend_labels.values(), title=\"Cluster Label\", loc=\"upper right\")\n",
    "\n",
    "# Label dan judul\n",
    "plt.xlabel(\"PM2.5 AQI Value\")\n",
    "plt.ylabel(\"NO2 AQI Value\")\n",
    "plt.title(\"K-Means Clustering with Cluster Label Coloring\")\n",
    "\n",
    "# Menampilkan plot\n",
    "plt.show()"
   ]
  },
  {
   "cell_type": "markdown",
   "id": "5cdee401",
   "metadata": {},
   "source": [
    "Berdasarkan dari hasil visualisasi clustering diatas bahwa cluster 1 (ungu) adalah cluster yang menunjukkan angka NO2 dan PM2.5 paling tinggi sehingga data yang berada pada cluster tersebut akan di berikan label **\"High Pollution\"**. Untuk cluster 2 (Hijau) menunjukkan nilai yang rendah untuk kedua variabel maka **cluster ke 2 akan diberi label \"Low Pollution\"**. Cluster terakhir yaitu cluster 3 mamiliki nilai NO2 yang rendah tetapi PM2,5 yang cukup tinggi sehingga **cluster 3 akan diberi label \"Moderate Polution\"**"
   ]
  },
  {
   "cell_type": "code",
   "execution_count": 26,
   "id": "1432ab67",
   "metadata": {},
   "outputs": [
    {
     "name": "stdout",
     "output_type": "stream",
     "text": [
      "   CO AQI Value  Ozone AQI Value  NO2 AQI Value  PM2.5 AQI Value  \\\n",
      "0      0.693147         3.610918       0.000000         3.951244   \n",
      "1      0.693147         1.791759       0.693147         3.737670   \n",
      "2      0.693147         3.688879       1.098612         4.204693   \n",
      "3      0.693147         3.555348       0.000000         3.044522   \n",
      "4      0.000000         3.135494       0.000000         1.945910   \n",
      "\n",
      "   Country_Freq  City_Freq  cluster_label  \n",
      "0          1241          1              3  \n",
      "1          1562          1              2  \n",
      "2           979          1              3  \n",
      "3           389          1              2  \n",
      "4           802          1              2  \n"
     ]
    }
   ],
   "source": [
    "# Menentukan jumlah cluster terbaik\n",
    "k = 3\n",
    "kmeans = KMeans(n_clusters=k, n_init=10, random_state=42)\n",
    "\n",
    "# Melakukan clustering menggunakan semua fitur yang digunakan sebelumnya\n",
    "df['cluster_label'] = kmeans.fit_predict(X_selected) + 1 \n",
    "\n",
    "# Menampilkan 5 baris pertama untuk memastikan kolom baru telah ditambahkan\n",
    "print(df.head())"
   ]
  },
  {
   "cell_type": "code",
   "execution_count": 27,
   "id": "30107fcc",
   "metadata": {},
   "outputs": [
    {
     "data": {
      "text/html": [
       "<div>\n",
       "<style scoped>\n",
       "    .dataframe tbody tr th:only-of-type {\n",
       "        vertical-align: middle;\n",
       "    }\n",
       "\n",
       "    .dataframe tbody tr th {\n",
       "        vertical-align: top;\n",
       "    }\n",
       "\n",
       "    .dataframe thead th {\n",
       "        text-align: right;\n",
       "    }\n",
       "</style>\n",
       "<table border=\"1\" class=\"dataframe\">\n",
       "  <thead>\n",
       "    <tr style=\"text-align: right;\">\n",
       "      <th></th>\n",
       "      <th>CO AQI Value</th>\n",
       "      <th>Ozone AQI Value</th>\n",
       "      <th>NO2 AQI Value</th>\n",
       "      <th>PM2.5 AQI Value</th>\n",
       "      <th>Country_Freq</th>\n",
       "      <th>City_Freq</th>\n",
       "      <th>cluster_label</th>\n",
       "    </tr>\n",
       "  </thead>\n",
       "  <tbody>\n",
       "    <tr>\n",
       "      <th>0</th>\n",
       "      <td>0.693147</td>\n",
       "      <td>3.610918</td>\n",
       "      <td>0.000000</td>\n",
       "      <td>3.951244</td>\n",
       "      <td>1241</td>\n",
       "      <td>1</td>\n",
       "      <td>3</td>\n",
       "    </tr>\n",
       "    <tr>\n",
       "      <th>1</th>\n",
       "      <td>0.693147</td>\n",
       "      <td>1.791759</td>\n",
       "      <td>0.693147</td>\n",
       "      <td>3.737670</td>\n",
       "      <td>1562</td>\n",
       "      <td>1</td>\n",
       "      <td>2</td>\n",
       "    </tr>\n",
       "    <tr>\n",
       "      <th>2</th>\n",
       "      <td>0.693147</td>\n",
       "      <td>3.688879</td>\n",
       "      <td>1.098612</td>\n",
       "      <td>4.204693</td>\n",
       "      <td>979</td>\n",
       "      <td>1</td>\n",
       "      <td>3</td>\n",
       "    </tr>\n",
       "    <tr>\n",
       "      <th>3</th>\n",
       "      <td>0.693147</td>\n",
       "      <td>3.555348</td>\n",
       "      <td>0.000000</td>\n",
       "      <td>3.044522</td>\n",
       "      <td>389</td>\n",
       "      <td>1</td>\n",
       "      <td>2</td>\n",
       "    </tr>\n",
       "    <tr>\n",
       "      <th>4</th>\n",
       "      <td>0.000000</td>\n",
       "      <td>3.135494</td>\n",
       "      <td>0.000000</td>\n",
       "      <td>1.945910</td>\n",
       "      <td>802</td>\n",
       "      <td>1</td>\n",
       "      <td>2</td>\n",
       "    </tr>\n",
       "  </tbody>\n",
       "</table>\n",
       "</div>"
      ],
      "text/plain": [
       "   CO AQI Value  Ozone AQI Value  NO2 AQI Value  PM2.5 AQI Value  \\\n",
       "0      0.693147         3.610918       0.000000         3.951244   \n",
       "1      0.693147         1.791759       0.693147         3.737670   \n",
       "2      0.693147         3.688879       1.098612         4.204693   \n",
       "3      0.693147         3.555348       0.000000         3.044522   \n",
       "4      0.000000         3.135494       0.000000         1.945910   \n",
       "\n",
       "   Country_Freq  City_Freq  cluster_label  \n",
       "0          1241          1              3  \n",
       "1          1562          1              2  \n",
       "2           979          1              3  \n",
       "3           389          1              2  \n",
       "4           802          1              2  "
      ]
     },
     "execution_count": 27,
     "metadata": {},
     "output_type": "execute_result"
    }
   ],
   "source": [
    "df.head()"
   ]
  },
  {
   "cell_type": "code",
   "execution_count": 28,
   "id": "21a9c1a2",
   "metadata": {},
   "outputs": [],
   "source": [
    "df.to_csv(\"kmeans_pollution.csv\", index=False)"
   ]
  },
  {
   "cell_type": "markdown",
   "id": "0f17c4be",
   "metadata": {},
   "source": [
    "Data hasil clustering disimpan dalam dataset bernama kmeans_pollution.csv yang dimana dataset tersebut akan digunakan untuk proses klasifikasi nanti"
   ]
  },
  {
   "cell_type": "code",
   "execution_count": 29,
   "id": "3e984e7f",
   "metadata": {},
   "outputs": [
    {
     "data": {
      "text/html": [
       "<div>\n",
       "<style scoped>\n",
       "    .dataframe tbody tr th:only-of-type {\n",
       "        vertical-align: middle;\n",
       "    }\n",
       "\n",
       "    .dataframe tbody tr th {\n",
       "        vertical-align: top;\n",
       "    }\n",
       "\n",
       "    .dataframe thead th {\n",
       "        text-align: right;\n",
       "    }\n",
       "</style>\n",
       "<table border=\"1\" class=\"dataframe\">\n",
       "  <thead>\n",
       "    <tr style=\"text-align: right;\">\n",
       "      <th></th>\n",
       "      <th>CO AQI Value</th>\n",
       "      <th>Ozone AQI Value</th>\n",
       "      <th>NO2 AQI Value</th>\n",
       "      <th>PM2.5 AQI Value</th>\n",
       "      <th>Country_Freq</th>\n",
       "      <th>City_Freq</th>\n",
       "      <th>cluster_label</th>\n",
       "    </tr>\n",
       "  </thead>\n",
       "  <tbody>\n",
       "    <tr>\n",
       "      <th>0</th>\n",
       "      <td>0.693147</td>\n",
       "      <td>3.610918</td>\n",
       "      <td>0.000000</td>\n",
       "      <td>3.951244</td>\n",
       "      <td>1241</td>\n",
       "      <td>1</td>\n",
       "      <td>3</td>\n",
       "    </tr>\n",
       "    <tr>\n",
       "      <th>1</th>\n",
       "      <td>0.693147</td>\n",
       "      <td>1.791759</td>\n",
       "      <td>0.693147</td>\n",
       "      <td>3.737670</td>\n",
       "      <td>1562</td>\n",
       "      <td>1</td>\n",
       "      <td>2</td>\n",
       "    </tr>\n",
       "    <tr>\n",
       "      <th>2</th>\n",
       "      <td>0.693147</td>\n",
       "      <td>3.688879</td>\n",
       "      <td>1.098612</td>\n",
       "      <td>4.204693</td>\n",
       "      <td>979</td>\n",
       "      <td>1</td>\n",
       "      <td>3</td>\n",
       "    </tr>\n",
       "    <tr>\n",
       "      <th>3</th>\n",
       "      <td>0.693147</td>\n",
       "      <td>3.555348</td>\n",
       "      <td>0.000000</td>\n",
       "      <td>3.044522</td>\n",
       "      <td>389</td>\n",
       "      <td>1</td>\n",
       "      <td>2</td>\n",
       "    </tr>\n",
       "    <tr>\n",
       "      <th>4</th>\n",
       "      <td>0.000000</td>\n",
       "      <td>3.135494</td>\n",
       "      <td>0.000000</td>\n",
       "      <td>1.945910</td>\n",
       "      <td>802</td>\n",
       "      <td>1</td>\n",
       "      <td>2</td>\n",
       "    </tr>\n",
       "  </tbody>\n",
       "</table>\n",
       "</div>"
      ],
      "text/plain": [
       "   CO AQI Value  Ozone AQI Value  NO2 AQI Value  PM2.5 AQI Value  \\\n",
       "0      0.693147         3.610918       0.000000         3.951244   \n",
       "1      0.693147         1.791759       0.693147         3.737670   \n",
       "2      0.693147         3.688879       1.098612         4.204693   \n",
       "3      0.693147         3.555348       0.000000         3.044522   \n",
       "4      0.000000         3.135494       0.000000         1.945910   \n",
       "\n",
       "   Country_Freq  City_Freq  cluster_label  \n",
       "0          1241          1              3  \n",
       "1          1562          1              2  \n",
       "2           979          1              3  \n",
       "3           389          1              2  \n",
       "4           802          1              2  "
      ]
     },
     "execution_count": 29,
     "metadata": {},
     "output_type": "execute_result"
    }
   ],
   "source": [
    "df.head()"
   ]
  },
  {
   "cell_type": "code",
   "execution_count": 32,
   "id": "d08b31f1",
   "metadata": {},
   "outputs": [
    {
     "name": "stdout",
     "output_type": "stream",
     "text": [
      "              CO AQI Value                     Ozone AQI Value            \\\n",
      "                       min       max      mean             min       max   \n",
      "cluster_label                                                              \n",
      "1                      0.0  4.897840  1.028867             0.0  5.463832   \n",
      "2                      0.0  1.098612  0.490734             0.0  4.836282   \n",
      "3                      0.0  4.219508  0.746056             0.0  5.347108   \n",
      "\n",
      "                        NO2 AQI Value                     PM2.5 AQI Value  \\\n",
      "                   mean           min       max      mean             min   \n",
      "cluster_label                                                               \n",
      "1              3.094400      1.386294  4.521789  2.019682        2.079442   \n",
      "2              3.318547      0.000000  1.791759  0.435177        0.000000   \n",
      "3              3.652931      0.000000  1.098612  0.408610        3.850148   \n",
      "\n",
      "                                  Country_Freq City_Freq  \n",
      "                    max      mean    mode_func mode_func  \n",
      "cluster_label                                             \n",
      "1              6.216606  4.300612         2872         1  \n",
      "2              3.850148  3.290865         1562         1  \n",
      "3              6.216606  4.408215         2488         1  \n"
     ]
    }
   ],
   "source": [
    "from scipy import stats\n",
    "\n",
    "def mode_func(x):\n",
    "    return stats.mode(x, keepdims=True)[0][0]\n",
    "\n",
    "# Agregasi\n",
    "agg_funcs = {\n",
    "    \"CO AQI Value\": [\"min\", \"max\", \"mean\"],\n",
    "    \"Ozone AQI Value\": [\"min\", \"max\", \"mean\"],\n",
    "    \"NO2 AQI Value\": [\"min\", \"max\", \"mean\"],\n",
    "    \"PM2.5 AQI Value\": [\"min\", \"max\", \"mean\"],\n",
    "    \"Country_Freq\": mode_func,\n",
    "    \"City_Freq\": mode_func\n",
    "}\n",
    "\n",
    "# Group by cluster label dan agregasi\n",
    "result = df.groupby(\"cluster_label\").agg(agg_funcs)\n",
    "\n",
    "# Tampilkan hasil\n",
    "print(result)"
   ]
  },
  {
   "cell_type": "markdown",
   "id": "190f155e",
   "metadata": {},
   "source": [
    "# Kesimpulan"
   ]
  },
  {
   "cell_type": "markdown",
   "id": "b3385990",
   "metadata": {},
   "source": [
    "## Analisis Data Berdasarkan Agregasi"
   ]
  },
  {
   "cell_type": "markdown",
   "id": "fd3ecc26",
   "metadata": {},
   "source": [
    "Berdasarkan hasil agregasi data yang dikelompokkan berdasarkan **cluster_label**, berikut adalah analisis per klaster berdasarkan nilai rata-rata (mean) dan distribusi nilai minimum (min) serta maksimum (max) dari setiap variabel:  \n",
    "\n",
    "### **Klaster 1**  \n",
    "- **CO AQI Value** memiliki rata-rata **1.0289**, dengan nilai minimum **0.0** dan maksimum **4.8978**, menunjukkan bahwa tingkat polusi CO dalam klaster ini cukup rendah secara rata-rata, meskipun ada beberapa titik dengan kadar yang lebih tinggi.  \n",
    "- **Ozone AQI Value** memiliki rata-rata **3.0944**, dengan minimum **0.0** dan maksimum **5.4638**, menunjukkan variasi yang signifikan dalam kualitas udara terkait ozon.  \n",
    "- **NO2 AQI Value** memiliki rata-rata **2.0197**, dengan minimum **1.3863** dan maksimum **4.5218**, menunjukkan tingkat NO2 yang cukup bervariasi dalam klaster ini.  \n",
    "- **PM2.5 AQI Value** memiliki rata-rata **4.3006**, dengan minimum **2.0794** dan maksimum **6.2166**, menandakan bahwa polutan PM2.5 dalam klaster ini cenderung lebih tinggi dibanding polutan lainnya.  \n",
    "- **Country_Freq** menunjukkan bahwa negara dengan frekuensi terbanyak dalam klaster ini memiliki kode **2872**, yang bisa merepresentasikan negara dominan dalam data ini.  \n",
    "- **City_Freq** memiliki nilai **1**, yang berarti hanya ada satu kota dominan dalam klaster ini.  \n",
    "\n",
    "### **Klaster 2**  \n",
    "- **CO AQI Value** memiliki rata-rata **0.4907**, dengan nilai minimum **0.0** dan maksimum **1.0986**, menunjukkan bahwa tingkat polusi CO dalam klaster ini relatif lebih rendah dibandingkan klaster 1.  \n",
    "- **Ozone AQI Value** memiliki rata-rata **3.3185**, dengan minimum **0.0** dan maksimum **4.8363**, menunjukkan kualitas udara yang bervariasi tetapi lebih rendah dibanding klaster 1.  \n",
    "- **NO2 AQI Value** memiliki rata-rata **0.4352**, dengan minimum **0.0** dan maksimum **1.7918**, yang menunjukkan bahwa tingkat NO2 dalam klaster ini sangat rendah dibanding klaster lainnya.  \n",
    "- **PM2.5 AQI Value** memiliki rata-rata **3.2909**, dengan minimum **0.0** dan maksimum **3.8501**, menunjukkan bahwa klaster ini memiliki tingkat polusi PM2.5 yang lebih rendah dibanding klaster 1.  \n",
    "- **Country_Freq** menunjukkan negara dengan kode **1562** sebagai yang paling sering muncul dalam klaster ini.  \n",
    "- **City_Freq** tetap bernilai **1**, yang berarti hanya ada satu kota dominan dalam klaster ini.  \n",
    "\n",
    "### **Klaster 3**  \n",
    "- **CO AQI Value** memiliki rata-rata **0.7461**, dengan nilai minimum **0.0** dan maksimum **4.2195**, menunjukkan tingkat polusi CO yang lebih tinggi dibanding klaster 2 tetapi lebih rendah dari klaster 1.  \n",
    "- **Ozone AQI Value** memiliki rata-rata **3.6529**, dengan minimum **0.0** dan maksimum **5.3471**, menunjukkan variasi kualitas udara yang lebih luas dibanding klaster lainnya.  \n",
    "- **NO2 AQI Value** memiliki rata-rata **0.4086**, dengan minimum **0.0** dan maksimum **1.0986**, menandakan bahwa tingkat NO2 di klaster ini cukup rendah.  \n",
    "- **PM2.5 AQI Value** memiliki rata-rata **4.4082**, dengan minimum **3.8501** dan maksimum **6.2166**, yang menunjukkan bahwa klaster ini memiliki tingkat polusi PM2.5 tertinggi dibandingkan klaster lainnya.  \n",
    "- **Country_Freq** menunjukkan negara dengan kode **2488** sebagai yang paling sering muncul dalam klaster ini.  \n",
    "- **City_Freq** tetap bernilai **1**, yang berarti hanya ada satu kota dominan dalam klaster ini.  \n",
    "\n",
    "### **Kesimpulan**  \n",
    "- Klaster 1 memiliki **tingkat polusi tertinggi untuk PM2.5** dan **NO2**, sementara CO dan Ozone juga cukup tinggi.  \n",
    "- Klaster 2 memiliki **tingkat polusi paling rendah secara umum**, terutama pada NO2 dan PM2.5, yang menandakan kualitas udara yang lebih baik.  \n",
    "- Klaster 3 memiliki **PM2.5 AQI yang paling tinggi**, tetapi CO dan NO2 tetap lebih rendah dibanding klaster 1.  \n"
   ]
  },
  {
   "cell_type": "markdown",
   "id": "d69a6395",
   "metadata": {},
   "source": [
    "## Analisis data berdasarkan skor evaluasi"
   ]
  },
  {
   "cell_type": "markdown",
   "id": "5cb18d7b",
   "metadata": {},
   "source": [
    "Dalam analisis clustering yang dilakukan menggunakan model K-Means, ditemukan bahwa jumlah cluster yang **optimal adalah 8, dengan silhouette score sebesar 0,79**. Namun, karena tujuan utama dari analisis ini adalah untuk mengelompokkan data berdasarkan tiga kategori tingkat polusi di setiap negara, maka diputuskan untuk menggunakan jumlah cluster sebanyak 3.\n",
    "\n",
    "**Meskipun penggunaan 3 cluster menghasilkan silhouette score yang sedikit lebih rendah, yaitu 0,73, pendekatan ini lebih sesuai dengan tujuan analisis yang telah ditetapkan sejak awal.**"
   ]
  }
 ],
 "metadata": {
  "kernelspec": {
   "display_name": "Python 3 (ipykernel)",
   "language": "python",
   "name": "python3"
  },
  "language_info": {
   "codemirror_mode": {
    "name": "ipython",
    "version": 3
   },
   "file_extension": ".py",
   "mimetype": "text/x-python",
   "name": "python",
   "nbconvert_exporter": "python",
   "pygments_lexer": "ipython3",
   "version": "3.9.18"
  }
 },
 "nbformat": 4,
 "nbformat_minor": 5
}
