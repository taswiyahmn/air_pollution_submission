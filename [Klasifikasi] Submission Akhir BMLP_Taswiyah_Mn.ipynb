{
 "cells": [
  {
   "cell_type": "markdown",
   "id": "2d64f2a1",
   "metadata": {},
   "source": [
    "# Import Library"
   ]
  },
  {
   "cell_type": "code",
   "execution_count": 23,
   "id": "97f3d663",
   "metadata": {},
   "outputs": [],
   "source": [
    "import pandas as pd\n",
    "import numpy as np\n",
    "import matplotlib.pyplot as plt\n",
    "import seaborn as sns\n",
    "from sklearn.model_selection import cross_val_score, KFold\n",
    "from sklearn.neighbors import KNeighborsClassifier\n",
    "from sklearn.tree import DecisionTreeClassifier\n",
    "from sklearn.metrics import confusion_matrix\n",
    "from sklearn.preprocessing import LabelEncoder"
   ]
  },
  {
   "cell_type": "code",
   "execution_count": 24,
   "id": "fa040d06",
   "metadata": {},
   "outputs": [],
   "source": [
    "import warnings\n",
    "warnings.filterwarnings(\"ignore\")"
   ]
  },
  {
   "cell_type": "markdown",
   "id": "171efaa3",
   "metadata": {},
   "source": [
    "# Load Dataset"
   ]
  },
  {
   "cell_type": "code",
   "execution_count": 25,
   "id": "b2049a92",
   "metadata": {},
   "outputs": [],
   "source": [
    "df = pd.read_csv('kmeans_pollution.csv')"
   ]
  },
  {
   "cell_type": "code",
   "execution_count": 26,
   "id": "d440001b",
   "metadata": {},
   "outputs": [
    {
     "data": {
      "text/html": [
       "<div>\n",
       "<style scoped>\n",
       "    .dataframe tbody tr th:only-of-type {\n",
       "        vertical-align: middle;\n",
       "    }\n",
       "\n",
       "    .dataframe tbody tr th {\n",
       "        vertical-align: top;\n",
       "    }\n",
       "\n",
       "    .dataframe thead th {\n",
       "        text-align: right;\n",
       "    }\n",
       "</style>\n",
       "<table border=\"1\" class=\"dataframe\">\n",
       "  <thead>\n",
       "    <tr style=\"text-align: right;\">\n",
       "      <th></th>\n",
       "      <th>CO AQI Value</th>\n",
       "      <th>Ozone AQI Value</th>\n",
       "      <th>NO2 AQI Value</th>\n",
       "      <th>PM2.5 AQI Value</th>\n",
       "      <th>Country_Freq</th>\n",
       "      <th>City_Freq</th>\n",
       "      <th>cluster_label</th>\n",
       "    </tr>\n",
       "  </thead>\n",
       "  <tbody>\n",
       "    <tr>\n",
       "      <th>0</th>\n",
       "      <td>0.693147</td>\n",
       "      <td>3.610918</td>\n",
       "      <td>0.000000</td>\n",
       "      <td>3.951244</td>\n",
       "      <td>1241</td>\n",
       "      <td>1</td>\n",
       "      <td>3</td>\n",
       "    </tr>\n",
       "    <tr>\n",
       "      <th>1</th>\n",
       "      <td>0.693147</td>\n",
       "      <td>1.791759</td>\n",
       "      <td>0.693147</td>\n",
       "      <td>3.737670</td>\n",
       "      <td>1562</td>\n",
       "      <td>1</td>\n",
       "      <td>2</td>\n",
       "    </tr>\n",
       "    <tr>\n",
       "      <th>2</th>\n",
       "      <td>0.693147</td>\n",
       "      <td>3.688879</td>\n",
       "      <td>1.098612</td>\n",
       "      <td>4.204693</td>\n",
       "      <td>979</td>\n",
       "      <td>1</td>\n",
       "      <td>3</td>\n",
       "    </tr>\n",
       "    <tr>\n",
       "      <th>3</th>\n",
       "      <td>0.693147</td>\n",
       "      <td>3.555348</td>\n",
       "      <td>0.000000</td>\n",
       "      <td>3.044522</td>\n",
       "      <td>389</td>\n",
       "      <td>1</td>\n",
       "      <td>2</td>\n",
       "    </tr>\n",
       "    <tr>\n",
       "      <th>4</th>\n",
       "      <td>0.000000</td>\n",
       "      <td>3.135494</td>\n",
       "      <td>0.000000</td>\n",
       "      <td>1.945910</td>\n",
       "      <td>802</td>\n",
       "      <td>1</td>\n",
       "      <td>2</td>\n",
       "    </tr>\n",
       "  </tbody>\n",
       "</table>\n",
       "</div>"
      ],
      "text/plain": [
       "   CO AQI Value  Ozone AQI Value  NO2 AQI Value  PM2.5 AQI Value  \\\n",
       "0      0.693147         3.610918       0.000000         3.951244   \n",
       "1      0.693147         1.791759       0.693147         3.737670   \n",
       "2      0.693147         3.688879       1.098612         4.204693   \n",
       "3      0.693147         3.555348       0.000000         3.044522   \n",
       "4      0.000000         3.135494       0.000000         1.945910   \n",
       "\n",
       "   Country_Freq  City_Freq  cluster_label  \n",
       "0          1241          1              3  \n",
       "1          1562          1              2  \n",
       "2           979          1              3  \n",
       "3           389          1              2  \n",
       "4           802          1              2  "
      ]
     },
     "execution_count": 26,
     "metadata": {},
     "output_type": "execute_result"
    }
   ],
   "source": [
    "df.head()"
   ]
  },
  {
   "cell_type": "markdown",
   "id": "c2712310",
   "metadata": {},
   "source": [
    "# Data Splitting"
   ]
  },
  {
   "cell_type": "markdown",
   "id": "255b236b",
   "metadata": {},
   "source": [
    "Data splitting pada klasifikasi ini menggunakan cross validation untuk menghindari terjadinya overfitting pada output nantinya"
   ]
  },
  {
   "cell_type": "code",
   "execution_count": 27,
   "id": "16128cc1",
   "metadata": {},
   "outputs": [],
   "source": [
    "# Pisahkan fitur dan target\n",
    "X = df.drop(columns=['cluster_label'])  \n",
    "y = df['cluster_label']"
   ]
  },
  {
   "cell_type": "code",
   "execution_count": 28,
   "id": "2941dcad",
   "metadata": {},
   "outputs": [],
   "source": [
    "encoder = LabelEncoder()\n",
    "y = encoder.fit_transform(y)  "
   ]
  },
  {
   "cell_type": "markdown",
   "id": "0d1cfc5c",
   "metadata": {},
   "source": [
    "Kode ini digunakan untuk memastikan bahwa data numerik pada kolom cluster_label berupa kategorikal"
   ]
  },
  {
   "cell_type": "markdown",
   "id": "dd16ab8a",
   "metadata": {},
   "source": [
    "## Cross Validation"
   ]
  },
  {
   "cell_type": "code",
   "execution_count": 29,
   "id": "8c66f182",
   "metadata": {},
   "outputs": [],
   "source": [
    "# K-Fold Cross Validation\n",
    "kf = KFold(n_splits=5, shuffle=True, random_state=42)"
   ]
  },
  {
   "cell_type": "markdown",
   "id": "bbba07dd",
   "metadata": {},
   "source": [
    "# Pemilihan Model"
   ]
  },
  {
   "cell_type": "markdown",
   "id": "d552f5e0",
   "metadata": {},
   "source": [
    "Pada klasifikasi ini saya menggunakan 2 model klasifikasi yaitu knn dan decision tree, yang dimana nantinya kedua model ini akan dibadingkan berdasarkan akurasi yang dihasilkan dari berbagai macam metode evaluasi"
   ]
  },
  {
   "cell_type": "code",
   "execution_count": 30,
   "id": "eb884eb8",
   "metadata": {},
   "outputs": [],
   "source": [
    "# Inisialisasi model\n",
    "knn = KNeighborsClassifier(n_neighbors=3)\n",
    "dt = DecisionTreeClassifier(random_state=42)\n",
    "\n",
    "# Prediksi dengan cross-validation\n",
    "knn_pred = cross_val_score(knn, X, y, cv=kf, scoring='accuracy')\n",
    "dt_pred = cross_val_score(dt, X, y, cv=kf, scoring='accuracy')"
   ]
  },
  {
   "cell_type": "markdown",
   "id": "bafb47fc",
   "metadata": {},
   "source": [
    "# Evaluasi Model"
   ]
  },
  {
   "cell_type": "code",
   "execution_count": 31,
   "id": "8fc6138d",
   "metadata": {},
   "outputs": [
    {
     "name": "stdout",
     "output_type": "stream",
     "text": [
      "Akurasi tiap fold: [0.97178207 0.97026264 0.9693944  0.97004558 0.9704797 ]\n",
      "Rata-rata akurasi: 0.9703928803993922\n"
     ]
    }
   ],
   "source": [
    "print(\"Akurasi tiap fold:\", knn_pred)\n",
    "print(\"Rata-rata akurasi:\", knn_pred.mean())"
   ]
  },
  {
   "cell_type": "code",
   "execution_count": 32,
   "id": "b596e469",
   "metadata": {},
   "outputs": [
    {
     "name": "stdout",
     "output_type": "stream",
     "text": [
      "Akurasi tiap fold: [1.         0.99978294 0.99978294 1.         1.        ]\n",
      "Rata-rata akurasi: 0.9999131756023443\n"
     ]
    }
   ],
   "source": [
    "print(\"Akurasi tiap fold:\", dt_pred)\n",
    "print(\"Rata-rata akurasi:\", dt_pred.mean())"
   ]
  },
  {
   "cell_type": "markdown",
   "id": "9a19d4f4",
   "metadata": {},
   "source": [
    "2 cell code diatas menunjukkan hasil akurasi menggunakan cross validation. Berdasarkan hasil yang diberikan dapat kita lihat bahwa decision tree memberikan hasil yang lebih optimal dibandingkan dengan knn, **decision tree dengan score rata2 adalah 0,99 (hampir mendekati 1)** sementara **knn memberikan akurasi rata-rata sebesar 0,97**"
   ]
  },
  {
   "cell_type": "code",
   "execution_count": 34,
   "id": "a53f15e4",
   "metadata": {},
   "outputs": [],
   "source": [
    "from sklearn.model_selection import cross_val_predict\n",
    "\n",
    "# Lakukan prediksi menggunakan cross-validation\n",
    "knn_pred_cm = cross_val_predict(knn, X, y, cv=kf)\n",
    "dt_pred_cm = cross_val_predict(dt, X, y, cv=kf)\n",
    "\n",
    "# Hitung confusion matrix\n",
    "knn_cm = confusion_matrix(y, knn_pred_cm)\n",
    "dt_cm = confusion_matrix(y, dt_pred_cm)"
   ]
  },
  {
   "cell_type": "markdown",
   "id": "c611f7c0",
   "metadata": {},
   "source": [
    "## Confussion Matrix"
   ]
  },
  {
   "cell_type": "code",
   "execution_count": 36,
   "id": "426b2454",
   "metadata": {},
   "outputs": [
    {
     "data": {
      "image/png": "[encoded data removed]",
      "text/plain": [
       "<Figure size 1200x500 with 4 Axes>"
      ]
     },
     "metadata": {},
     "output_type": "display_data"
    }
   ],
   "source": [
    "# Visualisasi Confusion Matrix\n",
    "fig, axes = plt.subplots(1, 2, figsize=(12, 5))\n",
    "\n",
    "sns.heatmap(knn_cm, annot=True, fmt='d', cmap='Blues', ax=axes[0])\n",
    "axes[0].set_title(\"Confusion Matrix - KNN\")\n",
    "axes[0].set_xlabel(\"Predicted Label\")\n",
    "axes[0].set_ylabel(\"True Label\")\n",
    "\n",
    "sns.heatmap(dt_cm, annot=True, fmt='d', cmap='Blues', ax=axes[1])\n",
    "axes[1].set_title(\"Confusion Matrix - Decision Tree\")\n",
    "axes[1].set_xlabel(\"Predicted Label\")\n",
    "axes[1].set_ylabel(\"True Label\")\n",
    "\n",
    "plt.show()"
   ]
  },
  {
   "cell_type": "markdown",
   "id": "35bccbbc",
   "metadata": {},
   "source": [
    "Berdasarkan confusion matrix yang ditampilkan, dapat disimpulkan bahwa model **Decision Tree memiliki kinerja yang lebih baik dibandingkan KNN** dalam mengklasifikasikan data.  \n",
    "\n",
    "Pada model **KNN**, meskipun sebagian besar data kelas **0** berhasil diklasifikasikan dengan benar (7,273 data), masih terdapat kesalahan klasifikasi, yaitu 49 data yang diklasifikasikan sebagai kelas **1** dan 84 data yang diklasifikasikan sebagai kelas **2**. Hal ini menunjukkan bahwa KNN belum sepenuhnya optimal dalam membedakan kelas, terutama untuk kelas **1** dan **2**.  \n",
    "\n",
    "Sementara itu, model **Decision Tree** menunjukkan hasil yang lebih akurat, terutama dalam mengklasifikasikan data kelas **0**, di mana **7,405 data diklasifikasikan dengan benar**, dan hanya **1 data yang salah diklasifikasikan sebagai kelas 1**. Tidak ada kesalahan klasifikasi ke kelas **2**, yang mengindikasikan bahwa model ini memiliki kemampuan yang lebih baik dalam membedakan antar kelas dibandingkan KNN.  "
   ]
  },
  {
   "cell_type": "markdown",
   "id": "0e64c764",
   "metadata": {},
   "source": [
    "## Precision, Recall, F1 Score"
   ]
  },
  {
   "cell_type": "code",
   "execution_count": 37,
   "id": "ddccbec2",
   "metadata": {},
   "outputs": [
    {
     "name": "stdout",
     "output_type": "stream",
     "text": [
      "Tabel Evaluasi Model:\n"
     ]
    },
    {
     "data": {
      "text/html": [
       "<div>\n",
       "<style scoped>\n",
       "    .dataframe tbody tr th:only-of-type {\n",
       "        vertical-align: middle;\n",
       "    }\n",
       "\n",
       "    .dataframe tbody tr th {\n",
       "        vertical-align: top;\n",
       "    }\n",
       "\n",
       "    .dataframe thead th {\n",
       "        text-align: right;\n",
       "    }\n",
       "</style>\n",
       "<table border=\"1\" class=\"dataframe\">\n",
       "  <thead>\n",
       "    <tr style=\"text-align: right;\">\n",
       "      <th></th>\n",
       "      <th>Akurasi</th>\n",
       "      <th>Precision</th>\n",
       "      <th>Recall</th>\n",
       "      <th>F1 Score</th>\n",
       "    </tr>\n",
       "  </thead>\n",
       "  <tbody>\n",
       "    <tr>\n",
       "      <th>KNN</th>\n",
       "      <td>0.970393</td>\n",
       "      <td>0.970408</td>\n",
       "      <td>0.970393</td>\n",
       "      <td>0.970393</td>\n",
       "    </tr>\n",
       "    <tr>\n",
       "      <th>Decision Tree</th>\n",
       "      <td>0.999913</td>\n",
       "      <td>0.999913</td>\n",
       "      <td>0.999913</td>\n",
       "      <td>0.999913</td>\n",
       "    </tr>\n",
       "  </tbody>\n",
       "</table>\n",
       "</div>"
      ],
      "text/plain": [
       "                Akurasi  Precision    Recall  F1 Score\n",
       "KNN            0.970393   0.970408  0.970393  0.970393\n",
       "Decision Tree  0.999913   0.999913  0.999913  0.999913"
      ]
     },
     "metadata": {},
     "output_type": "display_data"
    }
   ],
   "source": [
    "from sklearn.metrics import accuracy_score, precision_score, recall_score, f1_score\n",
    "\n",
    "# Fungsi untuk menghitung metrik evaluasi\n",
    "def evaluate_model(y_true, y_pred):\n",
    "    return [\n",
    "        accuracy_score(y_true, y_pred),\n",
    "        precision_score(y_true, y_pred, average='weighted'),\n",
    "        recall_score(y_true, y_pred, average='weighted'),\n",
    "        f1_score(y_true, y_pred, average='weighted')\n",
    "    ]\n",
    "\n",
    "# Buat DataFrame evaluasi\n",
    "df_metrics = pd.DataFrame(\n",
    "    [evaluate_model(y, knn_pred_cm), evaluate_model(y, dt_pred_cm)],\n",
    "    index=[\"KNN\", \"Decision Tree\"],\n",
    "    columns=[\"Akurasi\", \"Precision\", \"Recall\", \"F1 Score\"]\n",
    ")\n",
    "\n",
    "# Tampilkan hasil evaluasi\n",
    "print(\"Tabel Evaluasi Model:\")\n",
    "display(df_metrics)"
   ]
  },
  {
   "cell_type": "markdown",
   "id": "6d0208e0",
   "metadata": {},
   "source": [
    "untuk hasil evaluasi pada code cell diatas memberikan hasil yang persis sama dengan akurasi cross validation yaitu 0,97 untuk KNN dan 0,99 untuk decision tree"
   ]
  },
  {
   "cell_type": "markdown",
   "id": "629238cf",
   "metadata": {},
   "source": [
    "# Kesimpulan"
   ]
  },
  {
   "cell_type": "markdown",
   "id": "c9b9dbfd",
   "metadata": {},
   "source": [
    "Secara keseluruhan, **Decision Tree lebih direkomendasikan dibandingkan KNN** karena memiliki tingkat kesalahan yang lebih rendah dan klasifikasi yang lebih akurat. Untuk meningkatkan performa KNN, dapat dilakukan **hyperparameter tuning** atau mencoba metode lain seperti **Random Forest atau SVM** untuk hasil yang lebih optimal."
   ]
  }
 ],
 "metadata": {
  "kernelspec": {
   "display_name": "Python 3 (ipykernel)",
   "language": "python",
   "name": "python3"
  },
  "language_info": {
   "codemirror_mode": {
    "name": "ipython",
    "version": 3
   },
   "file_extension": ".py",
   "mimetype": "text/x-python",
   "name": "python",
   "nbconvert_exporter": "python",
   "pygments_lexer": "ipython3",
   "version": "3.9.18"
  }
 },
 "nbformat": 4,
 "nbformat_minor": 5
}
