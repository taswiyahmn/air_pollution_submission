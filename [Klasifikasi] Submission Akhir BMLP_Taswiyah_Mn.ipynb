{
 "cells": [
  {
   "cell_type": "markdown",
   "id": "2d64f2a1",
   "metadata": {},
   "source": [
    "# Import Library"
   ]
  },
  {
   "cell_type": "code",
   "execution_count": 24,
   "id": "97f3d663",
   "metadata": {},
   "outputs": [],
   "source": [
    "import pandas as pd\n",
    "import numpy as np\n",
    "import matplotlib.pyplot as plt\n",
    "import seaborn as sns\n",
    "from sklearn.model_selection import cross_val_score, KFold\n",
    "from sklearn.neighbors import KNeighborsClassifier\n",
    "from sklearn.tree import DecisionTreeClassifier\n",
    "from sklearn.metrics import confusion_matrix\n",
    "from sklearn.preprocessing import LabelEncoder\n",
    "from sklearn.model_selection import GridSearchCV\n",
    "from sklearn.metrics import accuracy_score, precision_score, recall_score, f1_score"
   ]
  },
  {
   "cell_type": "code",
   "execution_count": 25,
   "id": "fa040d06",
   "metadata": {},
   "outputs": [],
   "source": [
    "import warnings\n",
    "warnings.filterwarnings(\"ignore\")"
   ]
  },
  {
   "cell_type": "markdown",
   "id": "171efaa3",
   "metadata": {},
   "source": [
    "# Load Dataset"
   ]
  },
  {
   "cell_type": "code",
   "execution_count": 26,
   "id": "b2049a92",
   "metadata": {},
   "outputs": [],
   "source": [
    "df = pd.read_csv('kmeans_pollution.csv')"
   ]
  },
  {
   "cell_type": "code",
   "execution_count": 27,
   "id": "d440001b",
   "metadata": {},
   "outputs": [
    {
     "data": {
      "text/html": [
       "<div>\n",
       "<style scoped>\n",
       "    .dataframe tbody tr th:only-of-type {\n",
       "        vertical-align: middle;\n",
       "    }\n",
       "\n",
       "    .dataframe tbody tr th {\n",
       "        vertical-align: top;\n",
       "    }\n",
       "\n",
       "    .dataframe thead th {\n",
       "        text-align: right;\n",
       "    }\n",
       "</style>\n",
       "<table border=\"1\" class=\"dataframe\">\n",
       "  <thead>\n",
       "    <tr style=\"text-align: right;\">\n",
       "      <th></th>\n",
       "      <th>Country</th>\n",
       "      <th>City</th>\n",
       "      <th>CO AQI Value</th>\n",
       "      <th>Ozone AQI Value</th>\n",
       "      <th>NO2 AQI Value</th>\n",
       "      <th>PM2.5 AQI Value</th>\n",
       "      <th>cluster_label</th>\n",
       "    </tr>\n",
       "  </thead>\n",
       "  <tbody>\n",
       "    <tr>\n",
       "      <th>0</th>\n",
       "      <td>Russian Federation</td>\n",
       "      <td>Praskoveya</td>\n",
       "      <td>1</td>\n",
       "      <td>36</td>\n",
       "      <td>0</td>\n",
       "      <td>51</td>\n",
       "      <td>3</td>\n",
       "    </tr>\n",
       "    <tr>\n",
       "      <th>1</th>\n",
       "      <td>Brazil</td>\n",
       "      <td>Presidente Dutra</td>\n",
       "      <td>1</td>\n",
       "      <td>5</td>\n",
       "      <td>1</td>\n",
       "      <td>41</td>\n",
       "      <td>3</td>\n",
       "    </tr>\n",
       "    <tr>\n",
       "      <th>2</th>\n",
       "      <td>Italy</td>\n",
       "      <td>Priolo Gargallo</td>\n",
       "      <td>1</td>\n",
       "      <td>39</td>\n",
       "      <td>2</td>\n",
       "      <td>66</td>\n",
       "      <td>3</td>\n",
       "    </tr>\n",
       "    <tr>\n",
       "      <th>3</th>\n",
       "      <td>Poland</td>\n",
       "      <td>Przasnysz</td>\n",
       "      <td>1</td>\n",
       "      <td>34</td>\n",
       "      <td>0</td>\n",
       "      <td>20</td>\n",
       "      <td>2</td>\n",
       "    </tr>\n",
       "    <tr>\n",
       "      <th>4</th>\n",
       "      <td>France</td>\n",
       "      <td>Punaauia</td>\n",
       "      <td>0</td>\n",
       "      <td>22</td>\n",
       "      <td>0</td>\n",
       "      <td>6</td>\n",
       "      <td>3</td>\n",
       "    </tr>\n",
       "  </tbody>\n",
       "</table>\n",
       "</div>"
      ],
      "text/plain": [
       "              Country              City  CO AQI Value  Ozone AQI Value  \\\n",
       "0  Russian Federation        Praskoveya             1               36   \n",
       "1              Brazil  Presidente Dutra             1                5   \n",
       "2               Italy   Priolo Gargallo             1               39   \n",
       "3              Poland         Przasnysz             1               34   \n",
       "4              France          Punaauia             0               22   \n",
       "\n",
       "   NO2 AQI Value  PM2.5 AQI Value  cluster_label  \n",
       "0              0               51              3  \n",
       "1              1               41              3  \n",
       "2              2               66              3  \n",
       "3              0               20              2  \n",
       "4              0                6              3  "
      ]
     },
     "execution_count": 27,
     "metadata": {},
     "output_type": "execute_result"
    }
   ],
   "source": [
    "df.head()"
   ]
  },
  {
   "cell_type": "code",
   "execution_count": 28,
   "id": "b1a1ba82",
   "metadata": {},
   "outputs": [],
   "source": [
    "scaler = StandardScaler()\n",
    "X_scaled = scaler.fit_transform(X)"
   ]
  },
  {
   "cell_type": "markdown",
   "id": "c2712310",
   "metadata": {},
   "source": [
    "# Data Splitting"
   ]
  },
  {
   "cell_type": "markdown",
   "id": "255b236b",
   "metadata": {},
   "source": [
    "Data splitting pada klasifikasi ini menggunakan cross validation untuk menghindari terjadinya overfitting pada output nantinya"
   ]
  },
  {
   "cell_type": "code",
   "execution_count": 29,
   "id": "16128cc1",
   "metadata": {},
   "outputs": [],
   "source": [
    "# Pisahkan fitur dan target\n",
    "X = df.drop(columns=['cluster_label', 'City', 'Country'])  \n",
    "y = df['cluster_label']"
   ]
  },
  {
   "cell_type": "code",
   "execution_count": 30,
   "id": "2941dcad",
   "metadata": {},
   "outputs": [],
   "source": [
    "encoder = LabelEncoder()\n",
    "y = encoder.fit_transform(y)  "
   ]
  },
  {
   "cell_type": "markdown",
   "id": "0d1cfc5c",
   "metadata": {},
   "source": [
    "Kode ini digunakan untuk memastikan bahwa data numerik pada kolom cluster_label berupa kategorikal"
   ]
  },
  {
   "cell_type": "markdown",
   "id": "dd16ab8a",
   "metadata": {},
   "source": [
    "## Cross Validation"
   ]
  },
  {
   "cell_type": "code",
   "execution_count": 31,
   "id": "8c66f182",
   "metadata": {},
   "outputs": [],
   "source": [
    "# K-Fold Cross Validation\n",
    "kf = KFold(n_splits=5, shuffle=True, random_state=42)"
   ]
  },
  {
   "cell_type": "markdown",
   "id": "bbba07dd",
   "metadata": {},
   "source": [
    "# Pemilihan Model"
   ]
  },
  {
   "cell_type": "markdown",
   "id": "d552f5e0",
   "metadata": {},
   "source": [
    "Pada klasifikasi ini saya menggunakan 2 model klasifikasi yaitu knn dan decision tree, yang dimana nantinya kedua model ini akan dibadingkan berdasarkan akurasi yang dihasilkan dari berbagai macam metode evaluasi"
   ]
  },
  {
   "cell_type": "code",
   "execution_count": 32,
   "id": "eb884eb8",
   "metadata": {},
   "outputs": [],
   "source": [
    "# Inisialisasi model\n",
    "knn = KNeighborsClassifier(n_neighbors=3)\n",
    "dt = DecisionTreeClassifier(random_state=42)\n",
    "\n",
    "# Prediksi dengan cross-validation\n",
    "knn_pred = cross_val_score(knn, X, y, cv=kf, scoring='accuracy')\n",
    "dt_pred = cross_val_score(dt, X, y, cv=kf, scoring='accuracy')"
   ]
  },
  {
   "cell_type": "markdown",
   "id": "bafb47fc",
   "metadata": {},
   "source": [
    "# Evaluasi Model"
   ]
  },
  {
   "cell_type": "code",
   "execution_count": 33,
   "id": "8fc6138d",
   "metadata": {},
   "outputs": [
    {
     "name": "stdout",
     "output_type": "stream",
     "text": [
      "Akurasi tiap fold: [0.60104189 0.6110267  0.60234426 0.59865422 0.61146082]\n",
      "Rata-rata akurasi: 0.6049055784675494\n"
     ]
    }
   ],
   "source": [
    "print(\"Akurasi tiap fold:\", knn_pred)\n",
    "print(\"Rata-rata akurasi:\", knn_pred.mean())"
   ]
  },
  {
   "cell_type": "code",
   "execution_count": 34,
   "id": "b596e469",
   "metadata": {},
   "outputs": [
    {
     "name": "stdout",
     "output_type": "stream",
     "text": [
      "Akurasi tiap fold: [0.60342956 0.60777078 0.5982201  0.60342956 0.59865422]\n",
      "Rata-rata akurasi: 0.6023008465378771\n"
     ]
    }
   ],
   "source": [
    "print(\"Akurasi tiap fold:\", dt_pred)\n",
    "print(\"Rata-rata akurasi:\", dt_pred.mean())"
   ]
  },
  {
   "cell_type": "markdown",
   "id": "9a19d4f4",
   "metadata": {},
   "source": [
    "2 cell code diatas menunjukkan hasil akurasi menggunakan cross validation. Berdasarkan hasil yang diberikan dapat kita lihat bahwa decision tree memberikan hasil yang lebih optimal dibandingkan dengan knn, **decision tree dengan score rata2 adalah 0,99 (hampir mendekati 1)** sementara **knn memberikan akurasi rata-rata sebesar 0,97**"
   ]
  },
  {
   "cell_type": "code",
   "execution_count": 38,
   "id": "a53f15e4",
   "metadata": {},
   "outputs": [],
   "source": [
    "# Lakukan prediksi menggunakan cross-validation\n",
    "knn_pred_cm = cross_val_predict(knn, X, y, cv=kf)\n",
    "dt_pred_cm = cross_val_predict(dt, X, y, cv=kf)\n",
    "\n",
    "# Hitung confusion matrix\n",
    "knn_cm = confusion_matrix(y, knn_pred_cm)\n",
    "dt_cm = confusion_matrix(y, dt_pred_cm)"
   ]
  },
  {
   "cell_type": "markdown",
   "id": "c611f7c0",
   "metadata": {},
   "source": [
    "## Confussion Matrix"
   ]
  },
  {
   "cell_type": "code",
   "execution_count": 39,
   "id": "426b2454",
   "metadata": {},
   "outputs": [
    {
     "data": {
      "image/png": "[encoded data removed]",
      "text/plain": [
       "<Figure size 1200x500 with 4 Axes>"
      ]
     },
     "metadata": {},
     "output_type": "display_data"
    }
   ],
   "source": [
    "# Visualisasi Confusion Matrix\n",
    "fig, axes = plt.subplots(1, 2, figsize=(12, 5))\n",
    "\n",
    "sns.heatmap(knn_cm, annot=True, fmt='d', cmap='Blues', ax=axes[0])\n",
    "axes[0].set_title(\"Confusion Matrix - KNN\")\n",
    "axes[0].set_xlabel(\"Predicted Label\")\n",
    "axes[0].set_ylabel(\"True Label\")\n",
    "\n",
    "sns.heatmap(dt_cm, annot=True, fmt='d', cmap='Blues', ax=axes[1])\n",
    "axes[1].set_title(\"Confusion Matrix - Decision Tree\")\n",
    "axes[1].set_xlabel(\"Predicted Label\")\n",
    "axes[1].set_ylabel(\"True Label\")\n",
    "\n",
    "plt.show()"
   ]
  },
  {
   "cell_type": "markdown",
   "id": "35bccbbc",
   "metadata": {},
   "source": [
    "Berdasarkan confusion matrix di atas, model KNN menunjukkan performa yang sedikit lebih baik dibandingkan Decision Tree, terutama dalam mengklasifikasikan label 0 dengan jumlah prediksi yang lebih akurat. Namun, secara keseluruhan, perbedaannya tidak terlalu signifikan."
   ]
  },
  {
   "cell_type": "markdown",
   "id": "0e64c764",
   "metadata": {},
   "source": [
    "## Precision, Recall, F1 Score"
   ]
  },
  {
   "cell_type": "code",
   "execution_count": 40,
   "id": "ddccbec2",
   "metadata": {},
   "outputs": [
    {
     "name": "stdout",
     "output_type": "stream",
     "text": [
      "Tabel Evaluasi Model:\n"
     ]
    },
    {
     "data": {
      "text/html": [
       "<div>\n",
       "<style scoped>\n",
       "    .dataframe tbody tr th:only-of-type {\n",
       "        vertical-align: middle;\n",
       "    }\n",
       "\n",
       "    .dataframe tbody tr th {\n",
       "        vertical-align: top;\n",
       "    }\n",
       "\n",
       "    .dataframe thead th {\n",
       "        text-align: right;\n",
       "    }\n",
       "</style>\n",
       "<table border=\"1\" class=\"dataframe\">\n",
       "  <thead>\n",
       "    <tr style=\"text-align: right;\">\n",
       "      <th></th>\n",
       "      <th>Akurasi</th>\n",
       "      <th>Precision</th>\n",
       "      <th>Recall</th>\n",
       "      <th>F1 Score</th>\n",
       "    </tr>\n",
       "  </thead>\n",
       "  <tbody>\n",
       "    <tr>\n",
       "      <th>KNN</th>\n",
       "      <td>0.604906</td>\n",
       "      <td>0.605932</td>\n",
       "      <td>0.604906</td>\n",
       "      <td>0.604600</td>\n",
       "    </tr>\n",
       "    <tr>\n",
       "      <th>Decision Tree</th>\n",
       "      <td>0.602301</td>\n",
       "      <td>0.601421</td>\n",
       "      <td>0.602301</td>\n",
       "      <td>0.601317</td>\n",
       "    </tr>\n",
       "  </tbody>\n",
       "</table>\n",
       "</div>"
      ],
      "text/plain": [
       "                Akurasi  Precision    Recall  F1 Score\n",
       "KNN            0.604906   0.605932  0.604906  0.604600\n",
       "Decision Tree  0.602301   0.601421  0.602301  0.601317"
      ]
     },
     "metadata": {},
     "output_type": "display_data"
    }
   ],
   "source": [
    "# Fungsi untuk menghitung metrik evaluasi\n",
    "def evaluate_model(y_true, y_pred):\n",
    "    return [\n",
    "        accuracy_score(y_true, y_pred),\n",
    "        precision_score(y_true, y_pred, average='weighted'),\n",
    "        recall_score(y_true, y_pred, average='weighted'),\n",
    "        f1_score(y_true, y_pred, average='weighted')\n",
    "    ]\n",
    "\n",
    "# Buat DataFrame evaluasi\n",
    "df_metrics = pd.DataFrame(\n",
    "    [evaluate_model(y, knn_pred_cm), evaluate_model(y, dt_pred_cm)],\n",
    "    index=[\"KNN\", \"Decision Tree\"],\n",
    "    columns=[\"Akurasi\", \"Precision\", \"Recall\", \"F1 Score\"]\n",
    ")\n",
    "\n",
    "# Tampilkan hasil evaluasi\n",
    "print(\"Tabel Evaluasi Model:\")\n",
    "display(df_metrics)"
   ]
  },
  {
   "cell_type": "markdown",
   "id": "629238cf",
   "metadata": {},
   "source": [
    "# Kesimpulan"
   ]
  },
  {
   "cell_type": "markdown",
   "id": "c9b9dbfd",
   "metadata": {},
   "source": [
    "Berdasarkan hasil klasifikasi, **KNN** menunjukkan performa yang lebih maksimal dibandingkan **Decision Tree**, meskipun perbedaannya tidak terlalu signifikan. Rata-rata nilai dari **confusion matrix** yang diperoleh adalah **0,60**, yang mengindikasikan bahwa model masih dapat ditingkatkan. Salah satu faktor yang mungkin memengaruhi hasil ini adalah **ketidakseimbangan skala pada data numerik**. Seharusnya, dilakukan proses **scaling** terlebih dahulu untuk menyamakan rentang nilai, sehingga model dapat belajar lebih optimal dan menghasilkan prediksi yang lebih akurat."
   ]
  },
  {
   "cell_type": "code",
   "execution_count": null,
   "id": "5f5e6810",
   "metadata": {},
   "outputs": [],
   "source": []
  }
 ],
 "metadata": {
  "kernelspec": {
   "display_name": "Python 3 (ipykernel)",
   "language": "python",
   "name": "python3"
  },
  "language_info": {
   "codemirror_mode": {
    "name": "ipython",
    "version": 3
   },
   "file_extension": ".py",
   "mimetype": "text/x-python",
   "name": "python",
   "nbconvert_exporter": "python",
   "pygments_lexer": "ipython3",
   "version": "3.9.18"
  }
 },
 "nbformat": 4,
 "nbformat_minor": 5
}
